{
 "cells": [
  {
   "cell_type": "code",
   "execution_count": 26,
   "id": "d63a08ed-3edc-44e0-abdd-d1e20c6afd4f",
   "metadata": {},
   "outputs": [
    {
     "data": {
      "text/plain": [
       "4"
      ]
     },
     "execution_count": 26,
     "metadata": {},
     "output_type": "execute_result"
    }
   ],
   "source": [
    "nums=[5,7,7,8,8,10]\n",
    "target = 8\n",
    "left=0\n",
    "right=len(nums)-1\n",
    "# leftmost\n",
    "def l_bs(nums, left, right, target):\n",
    "    while left<right:\n",
    "        mid=(right+left)//2\n",
    "        if nums[mid]>=target:\n",
    "            right=mid\n",
    "        else:\n",
    "            left=mid+1\n",
    "    return left if nums[left]==target else -1\n",
    "# rightmost\n",
    "def r_bs(nums, left, right, target):\n",
    "    while left<right:\n",
    "        mid=(right+left+1)//2\n",
    "        if nums[mid]<=target:\n",
    "            left=mid\n",
    "        else:\n",
    "            right=mid-1\n",
    "    return left if nums[left]==target else -1\n",
    "    \n",
    "r_bs(nums, left, right, target)"
   ]
  },
  {
   "cell_type": "code",
   "execution_count": 43,
   "id": "bf65d951-bd25-4500-9da1-c4a1b37ad45d",
   "metadata": {},
   "outputs": [],
   "source": [
    "a=\"111\"\n",
    "b=\"010\"\n",
    "hashmap={}\n",
    "hashmap[2]=\"10\"\n",
    "hashmap[3]=\"11\"\n",
    "hashmap[1]=\"01\"\n",
    "hashmap[0]=\"00\"\n",
    "summ=\"\"\n",
    "over=0\n",
    "if len(a)>len(b):\n",
    "    diff=len(a)-len(b)\n",
    "    b=\"0\"*diff + b\n",
    "else:\n",
    "    diff=len(b)-len(a)\n",
    "    a=\"0\"*diff + a\n",
    "for i in range(len(a)-1,-1,-1):\n",
    "    key=int(a[i])+int(b[i])+over\n",
    "    summ+=hashmap[key][1]\n",
    "    over=int(hashmap[key][0])\n",
    "if over!=0:\n",
    "    summ+=str(over)"
   ]
  },
  {
   "cell_type": "code",
   "execution_count": null,
   "id": "ebaf781e-df7e-44e9-a7b8-88d20c166d4a",
   "metadata": {},
   "outputs": [],
   "source": []
  }
 ],
 "metadata": {
  "kernelspec": {
   "display_name": "Python 3 (ipykernel)",
   "language": "python",
   "name": "python3"
  },
  "language_info": {
   "codemirror_mode": {
    "name": "ipython",
    "version": 3
   },
   "file_extension": ".py",
   "mimetype": "text/x-python",
   "name": "python",
   "nbconvert_exporter": "python",
   "pygments_lexer": "ipython3",
   "version": "3.12.3"
  }
 },
 "nbformat": 4,
 "nbformat_minor": 5
}
