{
 "cells": [
  {
   "cell_type": "code",
   "execution_count": 10,
   "id": "5dd42eb6-1a10-408d-864e-d44e25b2325e",
   "metadata": {},
   "outputs": [
    {
     "data": {
      "text/plain": [
       "[1, 2, 3, 4, 4, 4, 7, 9, 12, 29, 50, 400]"
      ]
     },
     "execution_count": 10,
     "metadata": {},
     "output_type": "execute_result"
    }
   ],
   "source": [
    "def quickSort(A):\n",
    "    if len(A)<=1:\n",
    "        return A\n",
    "    pivot=A[len(A)//2]\n",
    "    left=[i for i in A if i<pivot]\n",
    "    middle=[i for i in A if i==pivot]\n",
    "    right=[i for i in A if i>pivot]\n",
    "    return quickSort(left) + middle + quickSort(right)\n",
    "A=[1,2,9,4,4,12,29,3,4,7,400,50]\n",
    "quickSort(A)"
   ]
  },
  {
   "cell_type": "code",
   "execution_count": 35,
   "id": "660f1927-4e15-4fb3-bd63-10e130648926",
   "metadata": {},
   "outputs": [
    {
     "data": {
      "text/plain": [
       "{0: 2, 3: 1, 1: 1}"
      ]
     },
     "execution_count": 35,
     "metadata": {},
     "output_type": "execute_result"
    }
   ],
   "source": [
    "nums=[3,0,1,0]\n",
    "hashmap={}\n",
    "topk=[]\n",
    "for num in nums:\n",
    "    if num in hashmap:\n",
    "        hashmap[num]+=1\n",
    "    else:\n",
    "        hashmap[num]=1\n",
    "hashmap=dict(sorted(hashmap.items(), reverse=True, key=lambda x: x[1]))\n",
    "hashmap"
   ]
  },
  {
   "cell_type": "code",
   "execution_count": null,
   "id": "62582c78-9d1a-472e-9a3e-e78bdb7e4041",
   "metadata": {},
   "outputs": [],
   "source": []
  }
 ],
 "metadata": {
  "kernelspec": {
   "display_name": "Python 3 (ipykernel)",
   "language": "python",
   "name": "python3"
  },
  "language_info": {
   "codemirror_mode": {
    "name": "ipython",
    "version": 3
   },
   "file_extension": ".py",
   "mimetype": "text/x-python",
   "name": "python",
   "nbconvert_exporter": "python",
   "pygments_lexer": "ipython3",
   "version": "3.12.3"
  }
 },
 "nbformat": 4,
 "nbformat_minor": 5
}
