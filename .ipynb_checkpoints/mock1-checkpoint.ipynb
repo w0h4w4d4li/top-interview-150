{
 "cells": [
  {
   "cell_type": "code",
   "execution_count": 16,
   "id": "1fe55edc-d8cd-4103-80ab-d0dec5b5f1c0",
   "metadata": {},
   "outputs": [
    {
     "name": "stdout",
     "output_type": "stream",
     "text": [
      "hi this my fi\n",
      "asd\n",
      "fsdaf | asd\n",
      "['hi this my fi', 'asd', 'fsdaf | asd']\n",
      "['hi this my fi\\n', 'asd\\n', 'fsdaf | asd']\n"
     ]
    }
   ],
   "source": [
    "with open(\"./myfile.txt\", \"r+\") as file:\n",
    "    con = file.read()\n",
    "print(con)\n",
    "\n",
    "con = []\n",
    "with open(\"myfile.txt\", \"r\") as file:\n",
    "    for row in file:\n",
    "        con.append(row.strip())\n",
    "print(con)\n",
    "\n",
    "with open(\"myfile.txt\", \"r\") as file:\n",
    "    newcon = file.readlines()\n",
    "print(newcon)"
   ]
  },
  {
   "cell_type": "code",
   "execution_count": 23,
   "id": "f50b9f82-011b-4c76-a0a6-1bad61f45f78",
   "metadata": {},
   "outputs": [
    {
     "data": {
      "text/plain": [
       "['hi this my fi', 'asd', 'fsdaf | asd']"
      ]
     },
     "execution_count": 23,
     "metadata": {},
     "output_type": "execute_result"
    }
   ],
   "source": [
    "from pathlib import Path\n",
    "\n",
    "content = Path(\"myfile.txt\").read_text()\n",
    "content.splitlines()"
   ]
  },
  {
   "cell_type": "code",
   "execution_count": 24,
   "id": "ccca2010-d94e-41f5-a69a-99bbcaf740b4",
   "metadata": {},
   "outputs": [
    {
     "name": "stdout",
     "output_type": "stream",
     "text": [
      "hi this my fi\n",
      "asd\n",
      "fsdaf | asd\n",
      "sdfs asd my fi\n",
      "asd\n",
      "sfds 213 asd\n"
     ]
    }
   ],
   "source": [
    "import fileinput\n",
    "\n",
    "for file in fileinput.input(files=[\"myfile1.txt\", \"myfile2.txt\"]):\n",
    "    print(file.strip())"
   ]
  },
  {
   "cell_type": "code",
   "execution_count": 34,
   "id": "840a5916-3008-4662-b879-9cd85b58be8b",
   "metadata": {},
   "outputs": [
    {
     "data": {
      "text/plain": [
       "{'users': [{'id': 1,\n",
       "   'name': 'Alice',\n",
       "   'age': 28,\n",
       "   'email': 'alice@example.com',\n",
       "   'skills': ['Python', 'Data Analysis', 'Machine Learning'],\n",
       "   'active': True},\n",
       "  {'id': 2,\n",
       "   'name': 'Bob',\n",
       "   'age': 34,\n",
       "   'email': 'bob@example.com',\n",
       "   'skills': ['Java', 'Spring Boot', 'Microservices'],\n",
       "   'active': False},\n",
       "  {'id': 3,\n",
       "   'name': 'Charlie',\n",
       "   'age': 22,\n",
       "   'email': 'charlie@example.com',\n",
       "   'skills': ['JavaScript', 'React', 'Node.js'],\n",
       "   'active': True}]}"
      ]
     },
     "execution_count": 34,
     "metadata": {},
     "output_type": "execute_result"
    }
   ],
   "source": [
    "import json\n",
    "\n",
    "with open(\"myfile3.json\", \"r\") as file:\n",
    "    content = json.load(file)\n",
    "\n",
    "content"
   ]
  }
 ],
 "metadata": {
  "kernelspec": {
   "display_name": "Python 3 (ipykernel)",
   "language": "python",
   "name": "python3"
  },
  "language_info": {
   "codemirror_mode": {
    "name": "ipython",
    "version": 3
   },
   "file_extension": ".py",
   "mimetype": "text/x-python",
   "name": "python",
   "nbconvert_exporter": "python",
   "pygments_lexer": "ipython3",
   "version": "3.12.3"
  }
 },
 "nbformat": 4,
 "nbformat_minor": 5
}
