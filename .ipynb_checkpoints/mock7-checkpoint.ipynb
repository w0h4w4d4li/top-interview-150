{
 "cells": [
  {
   "cell_type": "code",
   "execution_count": 2,
   "id": "5dd42eb6-1a10-408d-864e-d44e25b2325e",
   "metadata": {},
   "outputs": [
    {
     "data": {
      "text/plain": [
       "[1, 2, 3, 4, 7, 9, 12, 29, 50, 400]"
      ]
     },
     "execution_count": 2,
     "metadata": {},
     "output_type": "execute_result"
    }
   ],
   "source": [
    "def quickSort(A):\n",
    "    if len(A)<=1:\n",
    "        return A\n",
    "    pivot=A[len(A)//2]\n",
    "    left=[i for i in A if i<pivot]\n",
    "    middle=[i for i in A if i==pivot]\n",
    "    right=[i for i in A if i>pivot]\n",
    "    return quickSort(left) + middle + quickSort(right)\n",
    "A=[1,2,9,4,12,29,3,7,400,50]\n",
    "quickSort(A)"
   ]
  }
 ],
 "metadata": {
  "kernelspec": {
   "display_name": "Python 3 (ipykernel)",
   "language": "python",
   "name": "python3"
  },
  "language_info": {
   "codemirror_mode": {
    "name": "ipython",
    "version": 3
   },
   "file_extension": ".py",
   "mimetype": "text/x-python",
   "name": "python",
   "nbconvert_exporter": "python",
   "pygments_lexer": "ipython3",
   "version": "3.12.3"
  }
 },
 "nbformat": 4,
 "nbformat_minor": 5
}
