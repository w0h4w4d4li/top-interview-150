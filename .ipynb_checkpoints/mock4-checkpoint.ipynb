{
 "cells": [
  {
   "cell_type": "code",
   "execution_count": 25,
   "id": "942ff868-f7f4-405f-948b-84d0d246cb8c",
   "metadata": {},
   "outputs": [
    {
     "name": "stdout",
     "output_type": "stream",
     "text": [
      "25 12 30 10 36 15 "
     ]
    }
   ],
   "source": [
    "class Node:\n",
    "    def __init__(self, val):\n",
    "        self.right = None\n",
    "        self.data = val\n",
    "        self.left = None\n",
    "\n",
    "def BinaryTree2DoubleLinkedList(root, out):\n",
    "    if root is None:\n",
    "        return\n",
    "    BinaryTree2DoubleLinkedList(root.left, out)\n",
    "    out.append(root.data)\n",
    "    BinaryTree2DoubleLinkedList(root.right, out)\n",
    "\n",
    "def print_dll(head):\n",
    "    \n",
    "    # Function to print nodes in given\n",
    "    # doubly linked list\n",
    "    while head is not None:\n",
    "        print(head.data, end=\" \")\n",
    "        head = head.right\n",
    "\n",
    "\n",
    "# Driver program to test above functions\n",
    "# Let us create the tree as\n",
    "# shown in above diagram\n",
    "if __name__ == '__main__':\n",
    "    root = Node(10)\n",
    "    root.left = Node(12)\n",
    "    root.right = Node(15)\n",
    "    root.left.left = Node(25)\n",
    "    root.left.right = Node(30)\n",
    "    root.right.left = Node(36)\n",
    "\n",
    "    out=[]\n",
    "    BinaryTree2DoubleLinkedList(root, out)\n",
    "    carry=[]\n",
    "    for i in range(len(out)):\n",
    "        node=Node(out[i])\n",
    "        carry.append(node)\n",
    "    for i in range(len(carry)):\n",
    "        if i == 0:\n",
    "            carry[i].left=None\n",
    "        else:\n",
    "            carry[i].left=carry[i-1]\n",
    "        if i == len(carry)-1:\n",
    "            carry[i].right=None\n",
    "        else:\n",
    "            carry[i].right=carry[i+1]\n",
    "    # Print the converted list\n",
    "    print_dll(carry[0])\n"
   ]
  },
  {
   "cell_type": "code",
   "execution_count": 53,
   "id": "ad9a6458-e873-4f77-925f-fa38e2f1ba98",
   "metadata": {},
   "outputs": [
    {
     "data": {
      "text/plain": [
       "1597"
      ]
     },
     "execution_count": 53,
     "metadata": {},
     "output_type": "execute_result"
    }
   ],
   "source": [
    "def problem1(n,arr):\n",
    "    arr[2]=2\n",
    "    arr[3]=3\n",
    "    for i in range(4, n+1):\n",
    "        arr[i] = arr[i-1]+arr[i-2]\n",
    "    return arr[n]\n",
    "arr={}\n",
    "problem1(16, arr)"
   ]
  },
  {
   "cell_type": "code",
   "execution_count": 167,
   "id": "60e8123a-2df1-4784-ad96-0661277cb325",
   "metadata": {},
   "outputs": [
    {
     "data": {
      "text/plain": [
       "[[20, 11], [40, 30], [10, 5]]"
      ]
     },
     "execution_count": 167,
     "metadata": {},
     "output_type": "execute_result"
    }
   ],
   "source": [
    "arr = [[11, 20], [30, 40], [5, 10], [20, 11], [40, 30], [10, 5]]\n",
    "hashmap={}\n",
    "holder=[]\n",
    "for i in arr:\n",
    "    if i[1] in hashmap:\n",
    "        if i[0]==hashmap.get(i[1]):\n",
    "            holder.append(i)\n",
    "    else:\n",
    "        hashmap[i[0]]=i[1]\n",
    "holder"
   ]
  },
  {
   "cell_type": "code",
   "execution_count": 307,
   "id": "6ae584fe-d0c9-4fac-8376-f32f2ba1ac7b",
   "metadata": {},
   "outputs": [
    {
     "data": {
      "text/plain": [
       "1994"
      ]
     },
     "execution_count": 307,
     "metadata": {},
     "output_type": "execute_result"
    }
   ],
   "source": [
    "s=\"MCMXCIV\"\n",
    "summ=0\n",
    "hashmap={}\n",
    "hashmap['I'] = 1\n",
    "hashmap['V'] = 5\n",
    "hashmap['X'] = 10\n",
    "hashmap['L'] = 50\n",
    "hashmap['C'] = 100\n",
    "hashmap['D'] = 500\n",
    "hashmap['M'] = 1000\n",
    "hashmap['IV'] = 4\n",
    "hashmap['IX'] = 9\n",
    "hashmap['XL'] = 40\n",
    "hashmap['XC'] = 90\n",
    "hashmap['CD'] = 400\n",
    "hashmap['CM'] = 900\n",
    "i=0\n",
    "while i<len(s):\n",
    "    if s[i]==\"I\" or s[i]==\"X\" or s[i]==\"C\":\n",
    "        if s[i:i+2] in hashmap:\n",
    "            summ+=hashmap.get(s[i:i+2])\n",
    "            i+=2\n",
    "        else:\n",
    "            summ+=hashmap.get(s[i])\n",
    "            i+=1\n",
    "    else:\n",
    "        summ+=hashmap.get(s[i])\n",
    "        i+=1\n",
    "summ"
   ]
  },
  {
   "cell_type": "code",
   "execution_count": 331,
   "id": "8b355398-b80f-4c6f-b773-4114c737e3da",
   "metadata": {},
   "outputs": [
    {
     "data": {
      "text/plain": [
       "True"
      ]
     },
     "execution_count": 331,
     "metadata": {},
     "output_type": "execute_result"
    }
   ],
   "source": [
    "s = \"PanaP\"\n",
    "\"\".join([c for c in s if c.isalnum()]) == \"\".join([c for c in s if c.isalnum()])[::-1]\n",
    "# \"\".join(map(str,s.strip().split()))\n",
    "# len(s.strip().split()[-1])"
   ]
  },
  {
   "cell_type": "code",
   "execution_count": null,
   "id": "ce7138b9-189b-4562-854b-38a1c3371117",
   "metadata": {},
   "outputs": [],
   "source": []
  },
  {
   "cell_type": "code",
   "execution_count": 36,
   "id": "dcbe8388-fde6-4468-a007-dca609a2d4c2",
   "metadata": {},
   "outputs": [
    {
     "data": {
      "text/plain": [
       "[[1, 4, 7], [4, 5, 8], [7, 8, 9]]"
      ]
     },
     "execution_count": 36,
     "metadata": {},
     "output_type": "execute_result"
    }
   ],
   "source": [
    "matrix = [[1,2,3],[4,5,6],[7,8,9]]\n",
    "for i in range(len(matrix)):\n",
    "    for j in range(len(matrix[0])):\n",
    "        matrix[i][j]=matrix[j][i]\n",
    "# matrix = [[matrix[i][j] for i in range(len(matrix[0]))] for j in range(len(matrix))]\n",
    "# matrix = [matrix[i][::-1] for i in range(len(matrix))]\n",
    "matrix"
   ]
  },
  {
   "cell_type": "code",
   "execution_count": 80,
   "id": "684bb6c7-cec9-4299-8ca9-67c80ba2cf78",
   "metadata": {},
   "outputs": [
    {
     "data": {
      "text/plain": [
       "{1: [0, 4, 5], 2: [1, 2], 3: [3]}"
      ]
     },
     "execution_count": 80,
     "metadata": {},
     "output_type": "execute_result"
    }
   ],
   "source": [
    "nums=[1,2,2,3,1,1]\n",
    "k=3\n",
    "hashmap={}\n",
    "for i in range(len(nums)):\n",
    "    if nums[i] not in hashmap:\n",
    "        hashmap[nums[i]]=[i]\n",
    "    else:\n",
    "        for j in hashmap[nums[i]]:\n",
    "            if abs(i-j)<=k:\n",
    "                return True\n",
    "        hashmap[nums[i]].append(i)\n",
    "return False\n",
    "hashmap"
   ]
  }
 ],
 "metadata": {
  "kernelspec": {
   "display_name": "Python 3 (ipykernel)",
   "language": "python",
   "name": "python3"
  },
  "language_info": {
   "codemirror_mode": {
    "name": "ipython",
    "version": 3
   },
   "file_extension": ".py",
   "mimetype": "text/x-python",
   "name": "python",
   "nbconvert_exporter": "python",
   "pygments_lexer": "ipython3",
   "version": "3.12.3"
  }
 },
 "nbformat": 4,
 "nbformat_minor": 5
}
