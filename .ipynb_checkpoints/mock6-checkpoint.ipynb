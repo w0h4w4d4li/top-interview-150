{
 "cells": [
  {
   "cell_type": "code",
   "execution_count": 101,
   "id": "a7fe586f-1872-4df0-b7fa-12144c145130",
   "metadata": {},
   "outputs": [
    {
     "data": {
      "text/plain": [
       "[24, 36, 24, 18]"
      ]
     },
     "execution_count": 101,
     "metadata": {},
     "output_type": "execute_result"
    }
   ],
   "source": [
    "nums = [3,2,3,4]\n",
    "output=[]\n",
    "suffix=1\n",
    "for i in range(len(nums)-1,-1,-1):\n",
    "    suffix*=nums[i]\n",
    "    output.append(suffix)\n",
    "output=output[::-1]\n",
    "prefix=1\n",
    "for j in range(len(nums)):\n",
    "    if j==len(nums)-1:\n",
    "        output[j]=prefix\n",
    "    else:\n",
    "        output[j]=prefix*output[j+1]\n",
    "        prefix*=nums[j]\n",
    "        nums[j]=prefix\n",
    "output"
   ]
  },
  {
   "cell_type": "code",
   "execution_count": 27,
   "id": "06fc28b5-b85c-4c96-9116-55f76381e262",
   "metadata": {},
   "outputs": [
    {
     "data": {
      "text/plain": [
       "[['eat', 'tea', 'ate'], ['tan', 'nat'], ['bat']]"
      ]
     },
     "execution_count": 27,
     "metadata": {},
     "output_type": "execute_result"
    }
   ],
   "source": [
    "strs = [\"eat\",\"tea\",\"tan\",\"ate\",\"nat\",\"bat\"]\n",
    "hashmap={}\n",
    "for s in strs:\n",
    "    sort=\"\".join(sorted(s))\n",
    "    if sort in hashmap:\n",
    "        hashmap[sort].append(s)\n",
    "    else:\n",
    "        hashmap[sort]=[s]\n",
    "list(hashmap.values())"
   ]
  },
  {
   "cell_type": "code",
   "execution_count": 8,
   "id": "305a009e-25aa-4e30-92f1-2f32dab42473",
   "metadata": {},
   "outputs": [],
   "source": [
    "A=[1,4,5,9,12,8]\n",
    "def merge(A, mid, start, end):\n",
    "    left_half=A[start:mid+1]\n",
    "    right_half=A[mid+1:end+1]\n",
    "    i=0\n",
    "    j=0\n",
    "    l=len(left_half)\n",
    "    r=len(right_half)\n",
    "    k=start\n",
    "    while i<l and j<r:\n",
    "        if left_half[i]<right_half[j]:\n",
    "            A[k]=left_half[i]\n",
    "            i+=1\n",
    "        else:\n",
    "            A[k]=right_half[j]\n",
    "            j+=1\n",
    "        k+=1\n",
    "    \n",
    "    while i<l:\n",
    "        A[k]=left_half[i]\n",
    "        i+=1\n",
    "        k+=1\n",
    "    while j<r:\n",
    "        A[k]=right_half[j]\n",
    "        j+=1\n",
    "        k+=1\n",
    "        \n",
    "def merge_sort(A,start,end):\n",
    "    if start>=end:\n",
    "        return\n",
    "    mid=(start+end)//2\n",
    "    merge_sort(A,start,mid)\n",
    "    merge_sort(A,mid+1,end)\n",
    "    merge(A, mid, start, end)\n",
    "    \n",
    "merge_sort(A,0,len(A)-1)"
   ]
  },
  {
   "cell_type": "code",
   "execution_count": null,
   "id": "5c7ad615-f141-4444-bfaf-daac58e82c9b",
   "metadata": {},
   "outputs": [],
   "source": []
  }
 ],
 "metadata": {
  "kernelspec": {
   "display_name": "Python 3 (ipykernel)",
   "language": "python",
   "name": "python3"
  },
  "language_info": {
   "codemirror_mode": {
    "name": "ipython",
    "version": 3
   },
   "file_extension": ".py",
   "mimetype": "text/x-python",
   "name": "python",
   "nbconvert_exporter": "python",
   "pygments_lexer": "ipython3",
   "version": "3.12.3"
  }
 },
 "nbformat": 4,
 "nbformat_minor": 5
}
