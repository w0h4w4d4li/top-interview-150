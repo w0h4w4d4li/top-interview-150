{
 "cells": [
  {
   "cell_type": "code",
   "execution_count": 22,
   "id": "d63a08ed-3edc-44e0-abdd-d1e20c6afd4f",
   "metadata": {},
   "outputs": [
    {
     "ename": "KeyboardInterrupt",
     "evalue": "",
     "output_type": "error",
     "traceback": [
      "\u001b[0;31m---------------------------------------------------------------------------\u001b[0m",
      "\u001b[0;31mKeyboardInterrupt\u001b[0m                         Traceback (most recent call last)",
      "Cell \u001b[0;32mIn[22], line 24\u001b[0m\n\u001b[1;32m     21\u001b[0m             right\u001b[38;5;241m=\u001b[39mmid\n\u001b[1;32m     22\u001b[0m     \u001b[38;5;28;01mreturn\u001b[39;00m right \u001b[38;5;28;01mif\u001b[39;00m nums[right]\u001b[38;5;241m==\u001b[39mtarget \u001b[38;5;28;01melse\u001b[39;00m \u001b[38;5;241m-\u001b[39m\u001b[38;5;241m1\u001b[39m\n\u001b[0;32m---> 24\u001b[0m \u001b[43mr_bs\u001b[49m\u001b[43m(\u001b[49m\u001b[43mnums\u001b[49m\u001b[43m,\u001b[49m\u001b[43m \u001b[49m\u001b[43mleft\u001b[49m\u001b[43m,\u001b[49m\u001b[43m \u001b[49m\u001b[43mright\u001b[49m\u001b[43m,\u001b[49m\u001b[43m \u001b[49m\u001b[43mtarget\u001b[49m\u001b[43m)\u001b[49m\n",
      "Cell \u001b[0;32mIn[22], line 16\u001b[0m, in \u001b[0;36mr_bs\u001b[0;34m(nums, left, right, target)\u001b[0m\n\u001b[1;32m     15\u001b[0m \u001b[38;5;28;01mdef\u001b[39;00m \u001b[38;5;21mr_bs\u001b[39m(nums, left, right, target):\n\u001b[0;32m---> 16\u001b[0m     \u001b[38;5;28;01mwhile\u001b[39;00m left\u001b[38;5;241m<\u001b[39mright:\n\u001b[1;32m     17\u001b[0m         mid\u001b[38;5;241m=\u001b[39mleft\u001b[38;5;241m+\u001b[39m(right\u001b[38;5;241m+\u001b[39mleft)\u001b[38;5;241m/\u001b[39m\u001b[38;5;241m/\u001b[39m\u001b[38;5;241m2\u001b[39m\n\u001b[1;32m     18\u001b[0m         \u001b[38;5;28;01mif\u001b[39;00m nums[mid]\u001b[38;5;241m<\u001b[39m\u001b[38;5;241m=\u001b[39mtarget:\n",
      "\u001b[0;31mKeyboardInterrupt\u001b[0m: "
     ]
    }
   ],
   "source": [
    "nums=[5,7,7,8,8,10]\n",
    "target = 8\n",
    "left=0\n",
    "right=len(nums)-1\n",
    "# leftmost\n",
    "def l_bs(nums, left, right, target):\n",
    "    while left<right:\n",
    "        mid=(right+left)//2\n",
    "        if nums[mid]>=target:\n",
    "            right=mid\n",
    "        else:\n",
    "            left=mid+1\n",
    "    return left if nums[left]==target else -1\n",
    "# rightmost\n",
    "def r_bs(nums, left, right, target):\n",
    "    while left<right:\n",
    "        mid=left+(right+left)//2\n",
    "        if nums[mid]<=target:\n",
    "            left=mid\n",
    "        else:\n",
    "            right=mid+1\n",
    "    return right if nums[right]==target else -1\n",
    "    \n",
    "r_bs(nums, left, right, target)"
   ]
  }
 ],
 "metadata": {
  "kernelspec": {
   "display_name": "Python 3 (ipykernel)",
   "language": "python",
   "name": "python3"
  },
  "language_info": {
   "codemirror_mode": {
    "name": "ipython",
    "version": 3
   },
   "file_extension": ".py",
   "mimetype": "text/x-python",
   "name": "python",
   "nbconvert_exporter": "python",
   "pygments_lexer": "ipython3",
   "version": "3.12.3"
  }
 },
 "nbformat": 4,
 "nbformat_minor": 5
}
