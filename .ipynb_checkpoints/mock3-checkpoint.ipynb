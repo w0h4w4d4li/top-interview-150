{
 "cells": [
  {
   "cell_type": "code",
   "execution_count": 24,
   "id": "5620c572-0f47-463b-b372-df6795d981ca",
   "metadata": {},
   "outputs": [],
   "source": [
    "def rotate_arr(arr, d):\n",
    "    while d!=0:\n",
    "        arr.append(arr.pop(0))\n",
    "        d-=1\n",
    "    return arr"
   ]
  },
  {
   "cell_type": "code",
   "execution_count": 29,
   "id": "5474c1d6-ff66-4443-8de9-d090a9bc0f62",
   "metadata": {},
   "outputs": [
    {
     "data": {
      "text/plain": [
       "[3, 4, 5, 6, 1, 2]"
      ]
     },
     "execution_count": 29,
     "metadata": {},
     "output_type": "execute_result"
    }
   ],
   "source": [
    "rotate_arr([1,2,3,4,5,6], 2)"
   ]
  },
  {
   "cell_type": "code",
   "execution_count": 35,
   "id": "2a332f96-7fcb-4892-999c-52af47522503",
   "metadata": {},
   "outputs": [
    {
     "data": {
      "text/plain": [
       "[5, 1, 2, 3, 4]"
      ]
     },
     "execution_count": 35,
     "metadata": {},
     "output_type": "execute_result"
    }
   ],
   "source": [
    "A=[1,2,3,4,5]\n",
    "tmp=A[4]\n",
    "for i in range(4,-1,-1):\n",
    "    A[i]=A[i-1]\n",
    "A[0]=tmp\n",
    "A"
   ]
  },
  {
   "cell_type": "code",
   "execution_count": 40,
   "id": "de722718-c18b-435b-a966-b26aa72bb551",
   "metadata": {},
   "outputs": [
    {
     "data": {
      "text/plain": [
       "[[0, 1, 2], [0, 1, 2], [0, 1, 2]]"
      ]
     },
     "execution_count": 40,
     "metadata": {},
     "output_type": "execute_result"
    }
   ],
   "source": [
    "[[j for j in range(3)] for i in range(3)]"
   ]
  },
  {
   "cell_type": "code",
   "execution_count": 22,
   "id": "8bc05ab2-acea-45a2-aaba-afb870c936c3",
   "metadata": {},
   "outputs": [
    {
     "name": "stdout",
     "output_type": "stream",
     "text": [
      "8 1 4 "
     ]
    }
   ],
   "source": [
    "mat = [[1, 2, 1, 4, 8], \n",
    "       [3, 7, 8, 4, 1], \n",
    "       [8, 4, 4, 4, 1], \n",
    "       [8, 1, 2, 4, 9]]\n",
    "m=len(mat)\n",
    "n=len(mat[0])\n",
    "counter=dict()\n",
    "for i in list(set(mat[0])):\n",
    "    counter[i]=0\n",
    "for j in mat:\n",
    "    for k in list(set(j)):\n",
    "        if k in counter.keys():\n",
    "            counter[k]+=1\n",
    "            \n",
    "for i,j in counter.items():\n",
    "    if j==4:\n",
    "        print(i, end=\" \")"
   ]
  },
  {
   "cell_type": "code",
   "execution_count": 54,
   "id": "0dddddc0-f67a-420e-bbe3-bf6a71ee757a",
   "metadata": {},
   "outputs": [],
   "source": [
    "mat = [[0, 0, 0, 1], \n",
    "       [0, 1, 1, 1], \n",
    "       [1, 1, 1, 1], \n",
    "       [0, 0, 0, 0]]\n",
    "i=0\n",
    "maxi=0\n",
    "for r in mat:\n",
    "    if r.count(1) > maxi:\n",
    "        maxi = r.count(1)\n",
    "        res=i\n",
    "    i+=1"
   ]
  },
  {
   "cell_type": "code",
   "execution_count": 98,
   "id": "8c0b24f2-6a0a-48cc-86f5-25af95da79e0",
   "metadata": {},
   "outputs": [
    {
     "name": "stdout",
     "output_type": "stream",
     "text": [
      "Original Doubly Linked List\n",
      "1 2 3 4 \n",
      "Reversed Doubly Linked List\n",
      "4 3 2 1 \n"
     ]
    }
   ],
   "source": [
    "# Python code to Reverse a doubly linked list,\n",
    "# using two pointers\n",
    "class Node:\n",
    "    def __init__(self, new_data):\n",
    "        self.data = new_data\n",
    "        self.next = None\n",
    "        self.prev = None\n",
    "\n",
    "def reverse(head):\n",
    "      \n",
    "    # If the list is empty or has only one node,\n",
    "    # return the head as is\n",
    "    if head is None or head.next is None:\n",
    "        return head\n",
    "\n",
    "    nextNode = None\n",
    "    currNode = head\n",
    "\n",
    "    # Traverse the list and reverse the links\n",
    "    while currNode is not None:\n",
    "        # Swap the next and prev pointers\n",
    "        sh=currNode\n",
    "        nextNode = currNode.next\n",
    "        currNode.next = currNode.prev\n",
    "        currNode.prev = nextNode\n",
    "        \n",
    "        # Move to the next node in the original list\n",
    "        # (which is now previous due to reversal)\n",
    "        currNode = nextNode\n",
    "\n",
    "    # The final node in the original list\n",
    "    # becomes the new head after reversal\n",
    "    return sh\n",
    "\n",
    "def printList(node):\n",
    "    while node is not None:\n",
    "        print(node.data, end=\" \")\n",
    "        node = node.next\n",
    "    print()\n",
    "\n",
    "if __name__ == \"__main__\":\n",
    "      \n",
    "    # Create a doubly linked list:\n",
    "    # 1 <-> 2 <-> 3 <-> 4\n",
    "    head = Node(1)\n",
    "    head.next = Node(2)\n",
    "    head.next.prev = head\n",
    "    head.next.next = Node(3)\n",
    "    head.next.next.prev = head.next\n",
    "    head.next.next.next = Node(4)\n",
    "    head.next.next.next.prev = head.next.next\n",
    "\n",
    "    print(\"Original Doubly Linked List\")\n",
    "    printList(head)\n",
    "    head = reverse(head)\n",
    "    print(\"Reversed Doubly Linked List\")\n",
    "    printList(head)\n"
   ]
  },
  {
   "cell_type": "code",
   "execution_count": 172,
   "id": "19fef424-e38b-4583-b58c-d611da85ee00",
   "metadata": {},
   "outputs": [
    {
     "name": "stdout",
     "output_type": "stream",
     "text": [
      "20\n",
      "30 40 50 10 20 \n"
     ]
    }
   ],
   "source": [
    "# Python program to rotate a linked list\n",
    "# by changing moving first node to end k times.\n",
    "\n",
    "class Node:\n",
    "    def __init__(self, newData):\n",
    "        self.data = newData\n",
    "        self.next = None\n",
    "\n",
    "# Function to rotate the linked list\n",
    "# left by k nodes\n",
    "def lengthList(head):\n",
    "    l=1\n",
    "    while head.next is not None:\n",
    "        head=head.next\n",
    "        l+=1\n",
    "    return l\n",
    "\n",
    "def rotate(head, k):\n",
    "    if k == 0 or head is None:\n",
    "        return head\n",
    "\n",
    "    length = lengthList(head)\n",
    "    newheadnum = (k % length)\n",
    "    if newheadnum == 0:\n",
    "        return head\n",
    "    else:\n",
    "        endNone=head\n",
    "        while endNone.next is not None:\n",
    "            endNone=endNone.next\n",
    "        endNone.next=head\n",
    "\n",
    "        newhead = head\n",
    "        while newheadnum!=0:\n",
    "            newhead=newhead.next\n",
    "            newheadnum-=1\n",
    "            if newheadnum==1:\n",
    "                newEnd=newhead\n",
    "        head = newhead\n",
    "        newEnd.next=None\n",
    "        return head\n",
    "\n",
    "def printList(node):\n",
    "    while node is not None:\n",
    "        print(node.data, end=\" \")\n",
    "        node = node.next\n",
    "    print()\n",
    "\n",
    "if __name__ == \"__main__\":\n",
    "\n",
    "    # Create a hard-coded linked list:\n",
    "    # 10 -> 20 -> 30 -> 40\n",
    "    head = Node(10)\n",
    "    head.next = Node(20)\n",
    "    head.next.next = Node(30)\n",
    "    head.next.next.next = Node(40)\n",
    "    head.next.next.next.next = Node(50)\n",
    "\n",
    "    head = rotate(head, 7)\n",
    "    printList(head)"
   ]
  }
 ],
 "metadata": {
  "kernelspec": {
   "display_name": "Python 3 (ipykernel)",
   "language": "python",
   "name": "python3"
  },
  "language_info": {
   "codemirror_mode": {
    "name": "ipython",
    "version": 3
   },
   "file_extension": ".py",
   "mimetype": "text/x-python",
   "name": "python",
   "nbconvert_exporter": "python",
   "pygments_lexer": "ipython3",
   "version": "3.12.3"
  }
 },
 "nbformat": 4,
 "nbformat_minor": 5
}
