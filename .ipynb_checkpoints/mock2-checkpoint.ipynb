{
 "cells": [
  {
   "cell_type": "code",
   "execution_count": 65,
   "id": "7ef990cb-da0a-47ce-94eb-d7d937268e09",
   "metadata": {},
   "outputs": [
    {
     "data": {
      "text/plain": [
       "[0, 1, 3, 0, 4]"
      ]
     },
     "execution_count": 65,
     "metadata": {},
     "output_type": "execute_result"
    }
   ],
   "source": [
    "def removeDuplicates(nums) -> int:\n",
    "    uni = set(nums)\n",
    "    nums = list(uni)\n",
    "    print(nums)\n",
    "    return len(uni)\n",
    "\n",
    "# removeDuplicates([1,1,2])\n",
    "k = [0,1,2,2,3,0,4,2]\n",
    "# j = set(k)\n",
    "k.remove(2)\n",
    "k.remove(2)\n",
    "k.remove(2)\n",
    "# k.remove(4)\n",
    "k"
   ]
  },
  {
   "cell_type": "code",
   "execution_count": 99,
   "id": "be8c238a-a410-4e64-8113-c9b51ff69a84",
   "metadata": {},
   "outputs": [
    {
     "data": {
      "text/plain": [
       "[1, 2, 5]"
      ]
     },
     "execution_count": 99,
     "metadata": {},
     "output_type": "execute_result"
    }
   ],
   "source": [
    "a=[1,2,4]\n",
    "[int(k) for k in str(int(\"\".join([str(i) for i in a]))+1)]"
   ]
  },
  {
   "cell_type": "code",
   "execution_count": 80,
   "id": "5c6dfadd-34eb-4e2a-b3e0-f2d23f9f41fe",
   "metadata": {},
   "outputs": [],
   "source": [
    "from math import floor\n",
    "# Definition for a binary tree node.\n",
    "class TreeNode:\n",
    "    def __init__(self, val=0, left=None, right=None):\n",
    "        self.val = val\n",
    "        self.left = left\n",
    "        self.right = right\n",
    "\n",
    "def levelOrderRec(root, level, out):\n",
    "    if not root:\n",
    "        return\n",
    "    if len(out) <= level:\n",
    "        out.append([])\n",
    "    out[level].append(root.val)\n",
    "    levelOrderRec(root.left, level+1, out)\n",
    "    levelOrderRec(root.right, level+1, out)\n",
    "\n",
    "def levelOrder(root, out):\n",
    "    levelOrderRec(root.left, 0, out)\n",
    "    levelOrderRec(root.right, 0, out)\n",
    "    return out\n",
    "\n",
    "\n",
    "def _sortedArrayToBST(nums):\n",
    "    if len(nums) == 0:\n",
    "        return TreeNode(None)\n",
    "    else:\n",
    "        middle = floor((len(nums)-1) / 2)\n",
    "        root = TreeNode(nums[middle])\n",
    "        root.left = _sortedArrayToBST(nums[:middle])\n",
    "        root.right = _sortedArrayToBST(nums[middle+1:])\n",
    "        return root\n",
    "    \n",
    "def sortedArrayToBST(nums):\n",
    "    if len(nums) == 0:\n",
    "        return []\n",
    "    else:\n",
    "        middle = floor((len(nums)-1) / 2)\n",
    "        root = TreeNode(nums[middle])\n",
    "        root.left = _sortedArrayToBST(nums[:middle])\n",
    "        root.right = _sortedArrayToBST(nums[middle+1:])\n",
    "        out=[] \n",
    "        a=[]\n",
    "        for i in levelOrder(root, out):\n",
    "            for j in i:\n",
    "                if j != None:\n",
    "                    a.append(j)\n",
    "        return root"
   ]
  },
  {
   "cell_type": "code",
   "execution_count": 81,
   "id": "2344eb18-deb7-454b-8436-3a2e3a229c63",
   "metadata": {},
   "outputs": [
    {
     "data": {
      "text/plain": [
       "__main__.TreeNode"
      ]
     },
     "execution_count": 81,
     "metadata": {},
     "output_type": "execute_result"
    }
   ],
   "source": [
    "type(sortedArrayToBST([-10,-3,0,5,9]))"
   ]
  },
  {
   "cell_type": "code",
   "execution_count": 32,
   "id": "32d0f8cd-2b83-460e-8f58-e385d6527313",
   "metadata": {},
   "outputs": [],
   "source": [
    "def sum(num1, num2):\n",
    "    res=\"\"\n",
    "    if len(num1) != len(num2):\n",
    "        tmp=\"\"\n",
    "        lz = max(len(num1), len(num2)) - min(len(num1), len(num2))\n",
    "        for i in range(lz):\n",
    "            tmp+=\"0\"\n",
    "        if len(num1) > len(num2):\n",
    "            tmp+=num2\n",
    "        else:\n",
    "            tmp+=num1\n",
    "    else:\n",
    "        tmp=num2\n",
    "    over=0\n",
    "    for i in range(len(num1)-1, -1, -1):\n",
    "      digit=over+int(num1[i])+int(tmp[i]) \n",
    "      if digit >= 10:\n",
    "          res+=str(digit-10)\n",
    "          over=1\n",
    "      else:\n",
    "          res+=str(digit)\n",
    "          over=0\n",
    "      if (i == 0) & over != 0:\n",
    "          res += str(1)\n",
    "    return res[::-1]"
   ]
  },
  {
   "cell_type": "code",
   "execution_count": 249,
   "id": "0e94aa85-7113-4593-a4a7-acaa3d990759",
   "metadata": {},
   "outputs": [
    {
     "name": "stdout",
     "output_type": "stream",
     "text": [
      "['a', 'ab', 'abb', 'abbb', 'b', 'bb', 'bbb', 'b', 'bb', 'b']\n"
     ]
    },
    {
     "data": {
      "text/plain": [
       "2"
      ]
     },
     "execution_count": 249,
     "metadata": {},
     "output_type": "execute_result"
    }
   ],
   "source": [
    "import copy\n",
    "s=\"abbb\"\n",
    "subs=[]\n",
    "for i in range(len(s)+1):\n",
    "    for j in range(i+1, len(s)+1):\n",
    "        subs.append(s[i:j])\n",
    "reader=copy.copy(subs)\n",
    "print(reader)\n",
    "for item in reader:\n",
    "    if item in subs:\n",
    "        while subs.count(item)!=1:\n",
    "              subs.remove(item)\n",
    "    occ=[el for el in item]\n",
    "    for j in occ:\n",
    "        if occ.count(j) > 1:\n",
    "            while subs.count(item)!=0:\n",
    "                subs.remove(item)\n",
    "maxi = len(subs[0])\n",
    "for el in subs:\n",
    "    if maxi < len(el):\n",
    "        maxi = len(el)\n",
    "maxi"
   ]
  },
  {
   "cell_type": "code",
   "execution_count": 20,
   "id": "7195a878-5aad-4ce0-be2f-3900df87629c",
   "metadata": {},
   "outputs": [
    {
     "data": {
      "text/plain": [
       "[4]"
      ]
     },
     "execution_count": 20,
     "metadata": {},
     "output_type": "execute_result"
    }
   ],
   "source": [
    "nums=[1,2,3,5,2]\n",
    "list({i for i in range(1,max(set(nums)))} - set(nums))"
   ]
  },
  {
   "cell_type": "code",
   "execution_count": 28,
   "id": "28616ef5-b019-431e-abec-c29206dcafc1",
   "metadata": {},
   "outputs": [],
   "source": [
    "# Definition for a binary tree node.\n",
    "class TreeNode:\n",
    "    def __init__(self, val=0, left=None, right=None):\n",
    "        self.val = val\n",
    "        self.left = left\n",
    "        self.right = right\n",
    "\n",
    "def preOrder(root, out):\n",
    "    if (root.left == None) and (root.right == None):\n",
    "        out.append(root.val)\n",
    "    else:\n",
    "        self.preOrder(root.left, out)\n",
    "        out.append(root.val)\n",
    "        self.preOrder(root.right, out)\n",
    "\n",
    "def getAllElements(root1, root2):\n",
    "    out1=[]\n",
    "    out2=[]\n",
    "    self.preOrder(root1, out1)\n",
    "    print(out1)\n",
    "    self.preOrder(root2, out2)\n",
    "    out3 = out1+out2\n",
    "    return out3.sort()"
   ]
  },
  {
   "cell_type": "raw",
   "id": "39565d18-dac6-4a86-879b-8e642c410f3c",
   "metadata": {},
   "source": [
    "root1 = TreeNode(2)\n",
    "root1.left = TreeNode(1)\n",
    "root1.right = TreeNode(4)\n",
    "\n",
    "root2 = TreeNode(1)\n",
    "root2.left = TreeNode(0)\n",
    "root2.right = TreeNode(3)\n",
    "\n",
    "getAllElements(root1, root2)"
   ]
  },
  {
   "cell_type": "code",
   "execution_count": null,
   "id": "44c2cd33-cb23-4367-84c7-c2b0311607c8",
   "metadata": {},
   "outputs": [],
   "source": []
  }
 ],
 "metadata": {
  "kernelspec": {
   "display_name": "Python 3 (ipykernel)",
   "language": "python",
   "name": "python3"
  },
  "language_info": {
   "codemirror_mode": {
    "name": "ipython",
    "version": 3
   },
   "file_extension": ".py",
   "mimetype": "text/x-python",
   "name": "python",
   "nbconvert_exporter": "python",
   "pygments_lexer": "ipython3",
   "version": "3.12.3"
  }
 },
 "nbformat": 4,
 "nbformat_minor": 5
}
